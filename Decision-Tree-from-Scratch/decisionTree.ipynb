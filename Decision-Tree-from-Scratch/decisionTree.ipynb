{
 "cells": [
  {
   "cell_type": "code",
   "execution_count": 1,
   "metadata": {},
   "outputs": [],
   "source": [
    "import pandas as pd\n",
    "import numpy as np\n",
    "from sklearn.model_selection import train_test_split\n",
    "import pprint as pp\n",
    "# import sys\n",
    "# !{sys.executable} -m pip install sklearn"
   ]
  },
  {
   "cell_type": "code",
   "execution_count": 2,
   "metadata": {},
   "outputs": [],
   "source": [
    "def calculate_entropy(df_label):\n",
    "    classes, class_counts = np.unique(df_label, return_counts= True)\n",
    "   # print(np.sum(class_counts))\n",
    "    entropy_value = np.sum([(-class_counts[i]/np.sum(class_counts))* np.log2(class_counts[i]/np.sum(class_counts))\n",
    "                           for i in range(len(classes))])\n",
    "    \n",
    "    return entropy_value\n",
    "\n"
   ]
  },
  {
   "cell_type": "code",
   "execution_count": 3,
   "metadata": {},
   "outputs": [],
   "source": [
    "def calculate_info_gain(X_train,label,feature):\n",
    "    entropy = calculate_entropy(X_train[label])\n",
    "    #print(entropy)\n",
    "    values,feature_counts = np.unique(X_train[feature], return_counts = True)\n",
    "    info_gain = entropy - (np.sum([(feature_counts[i]/np.sum(feature_counts))*\n",
    "                               calculate_entropy(X_train.where(X_train[feature]== values[i]).dropna()[label])\n",
    "                               for i in range(len(values))]))\n",
    "    return info_gain\n",
    "    \n"
   ]
  },
  {
   "cell_type": "code",
   "execution_count": 4,
   "metadata": {},
   "outputs": [],
   "source": [
    "def build_tree(df_train,df,label,features):\n",
    "    u_class = np.unique(df_train[label])\n",
    "    if(len(u_class) <= 1):\n",
    "        return u_class[0]\n",
    "    elif len(features) == 0:\n",
    "        return -1\n",
    "    else :\n",
    "        gains = [calculate_info_gain(df_train,label,feature)\n",
    "                for feature in features]\n",
    "        min_feature = features[np.argmax(gains)]\n",
    "       # print(min_feature)\n",
    "        d_tree = {min_feature:{}}\n",
    "        features.remove(min_feature)\n",
    "       # print(features)\n",
    "        \n",
    "        for  val in np.unique(df_train[min_feature]):\n",
    "            min_val = df_train.where(df_train[min_feature]==val).dropna()\n",
    "            min_tree = build_tree(min_val,df,label,features)\n",
    "            \n",
    "            d_tree[min_feature][val] = min_tree\n",
    "    return d_tree\n",
    "        "
   ]
  },
  {
   "cell_type": "code",
   "execution_count": 5,
   "metadata": {},
   "outputs": [],
   "source": [
    "def test(df_test, dtree):\n",
    "    #print(type(dtree))\n",
    "    for nodes in dtree.keys():\n",
    "        val = 0\n",
    "        dtree = dtree[nodes][df_test[nodes]]\n",
    "        if type(dtree) is dict:\n",
    "            val = test(df_test,dtree)\n",
    "        else : \n",
    "            val = dtree\n",
    "            break;\n",
    "    return val\n",
    "            "
   ]
  },
  {
   "cell_type": "code",
   "execution_count": 6,
   "metadata": {},
   "outputs": [],
   "source": [
    "def calculate_accuracy(df_test, dtree):\n",
    "    accuracy = 0\n",
    "    for i in range(len(df_test)):\n",
    "        df_test_copy = df_test.iloc[0,:]\n",
    "        got = int(test(df_test_copy,dtree))\n",
    "        #print(type(got))\n",
    "        if int(df_test_copy[\"Class\"]) == got:\n",
    "            accuracy+=1\n",
    "    return (accuracy/len(df_test))*100\n",
    "        \n",
    "    "
   ]
  },
  {
   "cell_type": "code",
   "execution_count": null,
   "metadata": {},
   "outputs": [],
   "source": []
  },
  {
   "cell_type": "code",
   "execution_count": 7,
   "metadata": {
    "scrolled": true
   },
   "outputs": [
    {
     "name": "stdout",
     "output_type": "stream",
     "text": [
      "THE DECISION TREE\n",
      "{'Proline': {'High': 1.0,\n",
      "             'Low': {'Color': {'High': 3.0,\n",
      "                               'Low': 2.0,\n",
      "                               'Medium': {'Flavanoids': {'High': 2.0,\n",
      "                                                         'Low': {'Alcalinity': {'High': 3.0,\n",
      "                                                                                'Low': 2.0,\n",
      "                                                                                'Medium': 3.0}},\n",
      "                                                         'Medium': {'Malic Acid': {'Low': 2.0,\n",
      "                                                                                   'Medium': 1.0}}}}}},\n",
      "             'Medium': {'Phenols': {'High': {'Magnesium': {'High': 2.0,\n",
      "                                                           'Low': 1.0,\n",
      "                                                           'Medium': 1.0}},\n",
      "                                    'Low': {'Ash': {'Low': 2.0, 'Medium': 3.0}},\n",
      "                                    'Medium': {'Nonflavanoid phenols': {'High': 2.0,\n",
      "                                                                        'Low': 1.0,\n",
      "                                                                        'Medium': 1.0}}}}}}\n",
      "\n",
      "\n",
      "Accuracy is  100.0 %\n"
     ]
    }
   ],
   "source": [
    "df = pd.read_csv(\"wine.data\")\n",
    "df.dropna(inplace=True)\n",
    "col=[\"Class\",\"Alchohol\",\"Malic Acid\",\"Ash\",\"Alcalinity\",\"Magnesium\",\"Phenols\",\"Flavanoids\",\"Nonflavanoid phenols\",\"Proanthocyanins\",\"Color\",\"Hue\",\"Diluted wines\",\"Proline\"]\n",
    "df.columns = col;\n",
    "labels = ['Low','Medium', 'High']\n",
    "\n",
    "\n",
    "#print(len(df))\n",
    "for x in col[1:] :\n",
    "    df[x]= pd.cut(df[x],bins=3,labels=labels)\n",
    "\n",
    "# X = df.iloc[:,1:]\n",
    "# y = df.iloc[:,0]\n",
    "df_train,df_test=train_test_split(df,test_size=0.2,random_state=42)\n",
    "#print(df_test.head(2))\n",
    "#print(X['Alchohol'])\n",
    "#print(X_train.head,y_train.head)\n",
    "#calculate_info_gain(df_train,\"Class\",\"Alchohol\")\n",
    "#print(calculate_entropy(y_train))\n",
    "parent = None\n",
    "decision_tree=build_tree(df_train,df_train,\"Class\",col[1:]);\n",
    "print(\"THE DECISION TREE\")\n",
    "pp.pprint(decision_tree)\n",
    "print(\"\\n\\nAccuracy is \",calculate_accuracy(df_test,decision_tree),\"%\")\n",
    "\n",
    "\n"
   ]
  },
  {
   "cell_type": "code",
   "execution_count": null,
   "metadata": {},
   "outputs": [],
   "source": []
  },
  {
   "cell_type": "code",
   "execution_count": null,
   "metadata": {},
   "outputs": [],
   "source": []
  }
 ],
 "metadata": {
  "kernelspec": {
   "display_name": "Python 3",
   "language": "python",
   "name": "python3"
  },
  "language_info": {
   "codemirror_mode": {
    "name": "ipython",
    "version": 3
   },
   "file_extension": ".py",
   "mimetype": "text/x-python",
   "name": "python",
   "nbconvert_exporter": "python",
   "pygments_lexer": "ipython3",
   "version": "3.7.7"
  }
 },
 "nbformat": 4,
 "nbformat_minor": 4
}
